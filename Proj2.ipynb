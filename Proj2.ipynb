{
 "cells": [
  {
   "cell_type": "code",
   "execution_count": 8,
   "metadata": {},
   "outputs": [],
   "source": [
    "import numpy as np\n",
    "import pandas as pd\n",
    "from sklearn import svm\n",
    "from sklearn.linear_model import LogisticRegression\n",
    "from sklearn.model_selection import train_test_split\n",
    "from sklearn.naive_bayes import GaussianNB, MultinomialNB\n",
    "from sklearn.neighbors import KNeighborsClassifier\n",
    "from sklearn.tree import DecisionTreeClassifier\n",
    "from sklearn.dummy import DummyClassifier\n",
    "from sklearn.feature_extraction.text import CountVectorizer\n",
    "import time"
   ]
  },
  {
   "cell_type": "code",
   "execution_count": 13,
   "metadata": {
    "scrolled": true
   },
   "outputs": [],
   "source": [
    "# Count Vectoriser process\n",
    "\n",
    "import pickle\n",
    "\n",
    "n_vocab = pickle.load(open(\"train_name_countvectorizer.pkl\", \"rb\"))\n",
    "n_vocab_dict = n_vocab.vocabulary_\n",
    "\n",
    "s_vocab = pickle.load(open(\"train_steps_countvectorizer.pkl\", \"rb\"))\n",
    "s_vocab_dict = s_vocab.vocabulary_\n",
    "\n",
    "i_vocab = pickle.load(open(\"train_ingr_countvectorizer.pkl\", \"rb\"))\n",
    "i_vocab_dict = i_vocab.vocabulary_\n",
    "\n",
    "train = pd.read_csv('recipe_train.csv')\n",
    "X_train_raw = train.iloc[:,:-1]\n",
    "y_train = train.iloc[:,-1]\n",
    "\n",
    "X_test_raw = pd.read_csv('recipe_test.csv')"
   ]
  },
  {
   "cell_type": "code",
   "execution_count": 10,
   "metadata": {},
   "outputs": [],
   "source": [
    "# fitting the Count Vectoriser to the elements in 'Name', 'Steps' and 'Ingredients'\n",
    "\n",
    "Xtr_name_txt = list(X_train_raw['name'])\n",
    "Xtr_steps_txt = list(X_train_raw['steps'])\n",
    "Xtr_ingr_txt = list(X_train_raw['ingredients'])\n",
    "\n",
    "Xte_name_txt = list(X_test_raw['name'])\n",
    "Xte_steps_txt = list(X_test_raw['steps'])\n",
    "Xte_ingr_txt = list(X_test_raw['ingredients'])\n",
    "\n",
    "Xtr_name =  n_vocab.fit_transform(Xtr_name_txt).todense()\n",
    "Xte_name = n_vocab.transform(Xte_name_txt).todense()\n",
    "\n",
    "Xtr_steps =  s_vocab.fit_transform(Xtr_steps_txt).todense()\n",
    "Xte_steps = s_vocab.transform(Xte_steps_txt).todense()\n",
    "\n",
    "Xtr_ingr =  i_vocab.fit_transform(Xtr_ingr_txt).todense()\n",
    "Xte_ingr = i_vocab.transform(Xte_ingr_txt).todense()"
   ]
  },
  {
   "cell_type": "code",
   "execution_count": 11,
   "metadata": {},
   "outputs": [],
   "source": [
    "# Swapping the columns with the CountVectoriser fitted values\n",
    "\n",
    "X_train = X_train_raw\n",
    "X_test = X_test_raw\n",
    "\n",
    "X_train['name'] = Xtr_name\n",
    "X_train['steps'] = Xtr_steps\n",
    "X_train['ingredients'] = Xtr_ingr\n",
    "\n",
    "X_test['name'] = Xte_name\n",
    "X_test['steps'] = Xte_steps\n",
    "X_test['ingredients'] = Xte_ingr"
   ]
  },
  {
   "cell_type": "code",
   "execution_count": 87,
   "metadata": {},
   "outputs": [
    {
     "name": "stderr",
     "output_type": "stream",
     "text": [
      "C:\\Users\\marko\\anaconda3\\lib\\site-packages\\sklearn\\svm\\_base.py:976: ConvergenceWarning: Liblinear failed to converge, increase the number of iterations.\n",
      "  warnings.warn(\"Liblinear failed to converge, increase \"\n"
     ]
    }
   ],
   "source": [
    "# Basic classifiers borrowed from the prac\n",
    "models = [DummyClassifier(strategy='most_frequent'),\n",
    "          GaussianNB(),\n",
    "          MultinomialNB(),\n",
    "          svm.LinearSVC(),\n",
    "          DecisionTreeClassifier(),\n",
    "          KNeighborsClassifier(),\n",
    "          LogisticRegression()]\n",
    "titles = ['Zero-R',\n",
    "          'GNB',\n",
    "          'MNB',\n",
    "          'LinearSVC',\n",
    "          'Decision Tree',\n",
    "          'KNN',\n",
    "          'Logistic Regression']\n",
    "\n",
    "for title, model in zip(titles, models):\n",
    "    exit = []\n",
    "    model.fit(X_train, y_train)\n",
    "    y_pred = model.predict(X_test)\n",
    "    for i in range(len(y_pred)):\n",
    "        row = [i+1, y_pred[i]]\n",
    "        exit.append(row)\n",
    "    exit = pd.DataFrame(exit, columns = ['id', 'duration_label'])\n",
    "    exit.to_csv(title + '_CV.csv', index = False)"
   ]
  },
  {
   "cell_type": "code",
   "execution_count": 26,
   "metadata": {},
   "outputs": [],
   "source": [
    "# Stacking Classifiers\n",
    "GNB = []\n",
    "DTC = []\n",
    "KNN = []\n",
    "# ZR = []\n",
    "FINAL = []\n",
    "LR = []\n",
    "\n",
    "gnb = GaussianNB()\n",
    "dtc = DecisionTreeClassifier()\n",
    "knn = KNeighborsClassifier()\n",
    "lr = LogisticRegression()\n",
    "# zr = DummyClassifier(strategy='most_frequent')\n",
    "\n",
    "gnb.fit(X_train, y_train); \n",
    "dtc.fit(X_train, y_train); knn.fit(X_train, y_train);  lr.fit(X_train, y_train)\n",
    "# zr.fit(X_train, y_train);\n",
    "y_pred_gnb = gnb.predict(X_test); \n",
    "y_pred_dtc = dtc.predict(X_test); y_pred_knn = knn.predict(X_test); y_pred_lr = lr.predict(X_test)\n",
    "#  y_pred_zr = zr.predict(X_test); \n",
    "\n",
    "for i in range(len(y_pred_gnb)):\n",
    "    row = [i+1, y_pred_gnb[i]]\n",
    "    GNB.append(row)\n",
    "    \n",
    "for i in range(len(y_pred_dtc)):\n",
    "    row = [i+1, y_pred_dtc[i]]\n",
    "    DTC.append(row)\n",
    "    \n",
    "for i in range(len(y_pred_knn)):\n",
    "    row = [i+1, y_pred_knn[i]]\n",
    "    KNN.append(row)\n",
    "    \n",
    "for i in range(len(y_pred_zr)):\n",
    "    row = [i+1, y_pred_zr[i]]\n",
    "    ZR.append(row)\n",
    "    \n",
    "for i in range(len(y_pred_lr)):\n",
    "    row = [i+1, y_pred_lr[i]]\n",
    "    LR.append(row)\n",
    "\n",
    "for i in range(len(y_pred_gnb)):\n",
    "    preds = []\n",
    "    preds.append(GNB[i][1]); \n",
    "    preds.append(DTC[i][1]); preds.append(KNN[i][1]); preds.append(LR[i][1])\n",
    "#     if set(preds) == {1,2,3}:\n",
    "#         FINAL.append([i+1, ZR[i][1]])\n",
    "# #     elif set(preds) == {1,3}:\n",
    "# #         FINAL.append([i+1,DTC[i][1]])\n",
    "#     else:\n",
    "    res = max(set(preds), key = preds.count)\n",
    "    FINAL.append([i+1, res])\n",
    "\n",
    "combined = pd.DataFrame(FINAL, columns = ['id', 'duration_label'])\n",
    "# combined.to_csv('Combined_GNB_DTC_KNN_0R.csv', index = False)\n",
    "combined.to_csv('Combined_GNB_DTC_KNN_LR.csv', index = False)"
   ]
  },
  {
   "cell_type": "code",
   "execution_count": 7,
   "metadata": {},
   "outputs": [],
   "source": [
    "# Bag-of-Words process\n",
    "import scipy\n",
    "Xtr_name = scipy.sparse.load_npz('train_name_vec.npz')\n",
    "Xte_name = scipy.sparse.load_npz('test_name_vec.npz')\n",
    "\n",
    "Xtr_steps = scipy.sparse.load_npz('train_steps_vec.npz')\n",
    "Xte_steps = scipy.sparse.load_npz('test_steps_vec.npz')\n",
    "\n",
    "Xtr_ingr = scipy.sparse.load_npz('train_ingr_vec.npz')\n",
    "Xte_ingr = scipy.sparse.load_npz('test_ingr_vec.npz')"
   ]
  },
  {
   "cell_type": "code",
   "execution_count": null,
   "metadata": {},
   "outputs": [],
   "source": [
    "for row in Xtr_ingr"
   ]
  }
 ],
 "metadata": {
  "kernelspec": {
   "display_name": "Python 3",
   "language": "python",
   "name": "python3"
  },
  "language_info": {
   "codemirror_mode": {
    "name": "ipython",
    "version": 3
   },
   "file_extension": ".py",
   "mimetype": "text/x-python",
   "name": "python",
   "nbconvert_exporter": "python",
   "pygments_lexer": "ipython3",
   "version": "3.7.3"
  }
 },
 "nbformat": 4,
 "nbformat_minor": 4
}
